{
 "cells": [
  {
   "cell_type": "code",
   "execution_count": null,
   "metadata": {
    "collapsed": true
   },
   "outputs": [],
   "source": [
    "%matplotlib inline\n",
    "\n",
    "import sys\n",
    "import os\n",
    "import numpy as np\n",
    "import matplotlib.pyplot as plt\n",
    "import time\n",
    "import tensorflow as tf\n",
    "from IPython import display\n",
    "import scipy.signal"
   ]
  },
  {
   "cell_type": "code",
   "execution_count": null,
   "metadata": {
    "collapsed": false
   },
   "outputs": [],
   "source": [
    "sys.path.append('../pythonWrapper/')\n",
    "import EAProjectorWrapper\n",
    "\n",
    "sys.path.append('../FileOps/')\n",
    "import PatchSample\n",
    "import FileIO\n",
    "\n",
    "sys.path.append('../Autoencoders/')\n",
    "import AEDenoising\n",
    "import SSAE"
   ]
  },
  {
   "cell_type": "code",
   "execution_count": null,
   "metadata": {
    "collapsed": true
   },
   "outputs": [],
   "source": [
    "dataPath = '/home/data1/dufan/lowdoseCTsets/L291/'\n",
    "prj = EAProjectorWrapper.Projector()\n",
    "prj.FromFile(os.path.join(dataPath, 'param.txt'))\n",
    "\n",
    "layer = 78 #L291\n",
    "with open(os.path.join(dataPath, 'quarter.raw'), 'rb') as f:\n",
    "    f.seek(prj.nu*prj.rotview*layer*4, os.SEEK_SET)\n",
    "    sino = np.fromfile(f, dtype=np.float32, count=prj.nu*prj.rotview)\n",
    "    f.close()\n",
    "sino = sino.reshape([prj.rotview, prj.nu])"
   ]
  },
  {
   "cell_type": "code",
   "execution_count": null,
   "metadata": {
    "collapsed": false
   },
   "outputs": [],
   "source": [
    "img0 = np.fromfile('/home/data0/dufan/Reconstruction/recon_new/recon/L291-78/fbp-quarter-3mean.raw',  dtype=np.float32)\n",
    "img0 = (img0 + 1000) / 1000 * 0.01937\n",
    "img0 = np.reshape(img0, [640,640])\n",
    "\n",
    "plt.figure(figsize=[8,8])\n",
    "plt.imshow(img0 / 0.01937 * 1000 - 1000, 'Greys_r', vmin=-160, vmax=240)"
   ]
  },
  {
   "cell_type": "code",
   "execution_count": null,
   "metadata": {
    "collapsed": false
   },
   "outputs": [],
   "source": [
    "def SAEReconSQS(sino, img0, prj, sae, sess, strides = None, nIter = 1,\n",
    "                hyper=0, subStepSize=0.05, nSubSteps=5, gamma = 0.5, random_patch = True, showSAELoss = False):\n",
    "    if strides is None:\n",
    "        strides = [sae.imgshape[0] / 2, sae.imgshape[1] / 2]\n",
    "    \n",
    "    # pre calculation\n",
    "    # w = sqrt(exp(-sino)) / prj_ones gives more stable results than exp(-sino) weighting\n",
    "    prj_ones = prj.ProjectionEA(np.ones(img0.shape, dtype=np.float32)) + 1e-6\n",
    "    w = np.sqrt(np.exp(-sino)) / prj_ones\n",
    "    normImg = prj.BackProjectionEA(w * prj.ProjectionEA(np.ones(img0.shape, dtype=np.float32)))\n",
    "        \n",
    "    total_cfs = list()\n",
    "    sae_cfs = list()\n",
    "    x = np.copy(img0)\n",
    "    z = np.copy(x)\n",
    "    patches_latent = None\n",
    "    for iIter in range(nIter):\n",
    "        x_input = x / 0.01937 * 2 - 2\n",
    "        y_input = np.copy(x_input)\n",
    "        sum_diff, sum_ones, cf_sae, _ = \\\n",
    "            AEDenoising.SAEDenoisingSQS(x_input, sae, sess, y_input, None,\n",
    "                                        strides, step=subStepSize, nSteps = nSubSteps,\n",
    "                                        random=random_patch, calcLoss=showSAELoss)\n",
    "\n",
    "        sum_diff = sum_diff / 2 * 0.01937\n",
    "        cf_sae = cf_sae / 2 / 2 * 0.01937 * 0.01937 \n",
    "        \n",
    "        dprj = (prj.ProjectionEA(x) - sino)\n",
    "        dprj[prj_ones <= 1e-6] = 0\n",
    "        dimg_prj = prj.BackProjectionEA(w * dprj)\n",
    "        \n",
    "        # Nesterov Momentum\n",
    "        x_new = z - (dimg_prj + 2 * hyper * sum_diff) / (normImg + 2 * hyper * sum_ones)\n",
    "        z = x_new + gamma * (x_new - x)\n",
    "        x = np.copy(x_new)\n",
    "                \n",
    "        cf_prj = 0.5 * np.sum(w * dprj**2)\n",
    "        cf = cf_prj + hyper * cf_sae\n",
    "        total_cfs.append(cf)\n",
    "        sae_cfs.append(cf_sae)\n",
    "        \n",
    "        display.clear_output()\n",
    "        print 'CF=(%f, %f, %f)'%(cf, cf_prj, cf_sae)\n",
    "        plt.figure(figsize=[16,8])\n",
    "        plt.subplot(121); plt.imshow(x / 0.01937 * 1000 - 1000, 'Greys_r', vmin=-160, vmax=240); plt.title('Image at %d'%iIter)\n",
    "        plt.subplot(222); plt.plot(sae_cfs); plt.xlim((0, nIter)); plt.title('SAE loss')\n",
    "        plt.subplot(224); plt.semilogy(total_cfs); plt.xlim((0, nIter)); plt.title('Total loss')\n",
    "        plt.show()        \n",
    "    \n",
    "    return x, total_cfs, sae_cfs"
   ]
  },
  {
   "cell_type": "code",
   "execution_count": null,
   "metadata": {
    "collapsed": false
   },
   "outputs": [],
   "source": [
    "sparsity = 100\n",
    "sparsity_src = 100\n",
    "tf.reset_default_graph()\n",
    "ae = SSAE.StackedSparseAutoEncoder(imgshape=[16,16,1], nFeatures=[1024,1024,1024], \n",
    "                                   sparsity=[sparsity,sparsity,sparsity], mode=0)\n",
    "ae.BuildStackedAutoEncoder(scope='SSAE')\n",
    "ae.BuildGradientsWRTInput(scope='SSAE')\n",
    "sess = tf.Session(config=tf.ConfigProto(gpu_options=tf.GPUOptions(visible_device_list='0', \n",
    "                                                                  per_process_gpu_memory_fraction=0.3)))\n",
    "loader = tf.train.Saver(var_list=tf.get_collection(tf.GraphKeys.TRAINABLE_VARIABLES, 'SSAE'))\n",
    "loader.restore(sess, '/home/data0/dufan/Reconstruction/recon_new/train/KSAE/16x16-xy/k-%d-wd-0.1-f-1024-1024-1024/49'%sparsity_src)\n",
    "\n"
   ]
  },
  {
   "cell_type": "code",
   "execution_count": null,
   "metadata": {
    "collapsed": false
   },
   "outputs": [],
   "source": [
    "res = SAEReconSQS(sino, img0, prj, ae, sess, hyper=50, nIter=200, strides=[8,8],\n",
    "                  subStepSize=0.05, nSubSteps=5, random_patch=True, showSAELoss=True)"
   ]
  },
  {
   "cell_type": "code",
   "execution_count": null,
   "metadata": {
    "collapsed": true
   },
   "outputs": [],
   "source": []
  }
 ],
 "metadata": {
  "kernelspec": {
   "display_name": "Python 2",
   "language": "python",
   "name": "python2"
  },
  "language_info": {
   "codemirror_mode": {
    "name": "ipython",
    "version": 2
   },
   "file_extension": ".py",
   "mimetype": "text/x-python",
   "name": "python",
   "nbconvert_exporter": "python",
   "pygments_lexer": "ipython2",
   "version": "2.7.12"
  }
 },
 "nbformat": 4,
 "nbformat_minor": 0
}
