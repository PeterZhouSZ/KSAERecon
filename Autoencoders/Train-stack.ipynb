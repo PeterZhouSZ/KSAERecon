{
 "cells": [
  {
   "cell_type": "code",
   "execution_count": null,
   "metadata": {
    "collapsed": false
   },
   "outputs": [],
   "source": [
    "import tensorflow as tf\n",
    "\n",
    "import numpy as np\n",
    "import SSAE\n",
    "reload(SSAE)\n",
    "import matplotlib.pyplot as plt\n",
    "import glob\n",
    "import os\n",
    "import sys\n",
    "from scipy import signal\n",
    "from IPython import display\n",
    "%matplotlib inline"
   ]
  },
  {
   "cell_type": "code",
   "execution_count": null,
   "metadata": {
    "collapsed": false
   },
   "outputs": [],
   "source": [
    "sys.path.append('../FileOps/')\n",
    "import FileIO\n",
    "import PatchSample"
   ]
  },
  {
   "cell_type": "code",
   "execution_count": null,
   "metadata": {
    "collapsed": true
   },
   "outputs": [],
   "source": [
    "def MakePath(ae, iStack, basePath='../train/SSAE/'):\n",
    "    path = os.path.join(basePath, '%dx%d-xy'%(ae.imgshape[0], ae.imgshape[1]), \n",
    "                        'sw-%g-wd-%g-f'%(ae.sparsity[iStack], ae.weight_decay))\n",
    "    for n in ae.nFeatures[:(iStack+1)]:\n",
    "        path += '-%d'%n\n",
    "    \n",
    "    return path"
   ]
  },
  {
   "cell_type": "code",
   "execution_count": null,
   "metadata": {
    "collapsed": false
   },
   "outputs": [],
   "source": [
    "noisyPath = '/home/data0/dufan/CT_images/quater_dose_image/'\n",
    "normalPath = '/home/data0/dufan/CT_images/full_dose_image/'\n",
    "\n",
    "normalSet = ['L067', 'L096', 'L109', 'L192', 'L506']\n",
    "\n",
    "for i in range(len(normalSet)):\n",
    "    normalSet[i] = os.path.join(normalPath, normalSet[i])"
   ]
  },
  {
   "cell_type": "code",
   "execution_count": null,
   "metadata": {
    "collapsed": false
   },
   "outputs": [],
   "source": [
    "samplePath = '../train/sample/%dx%d-xy/'%(imgshape[0], imgshape[1])\n",
    "nFiles = 10\n",
    "PatchSample.GenerateTrainingPatchesFromDicomSeq(samplePath, nFiles, 10, 10000, imgshape, normalSet)"
   ]
  },
  {
   "cell_type": "code",
   "execution_count": null,
   "metadata": {
    "collapsed": true
   },
   "outputs": [],
   "source": [
    "patches = list()\n",
    "for iFile in range(nFiles):\n",
    "    patches.append(PatchSample.RetrieveTrainingPatches(samplePath, iFile))"
   ]
  },
  {
   "cell_type": "code",
   "execution_count": null,
   "metadata": {
    "collapsed": false
   },
   "outputs": [],
   "source": [
    "imgshape = [16,16,1]\n",
    "nFeatures = [1024,1024,1024]\n",
    "sparsity = [5,5,5]\n",
    "weight_decay = 0.1\n",
    "nEpoches = 30\n",
    "batchsize = 100\n",
    "ae = SSAE.StackedSparseAutoEncoder(imgshape, nFeatures, sparsity, weight_decay)"
   ]
  },
  {
   "cell_type": "code",
   "execution_count": null,
   "metadata": {
    "collapsed": false
   },
   "outputs": [],
   "source": [
    "lastPath = ''\n",
    "for iStack in range(len(nFeatureMaps)):\n",
    "    \n",
    "    tf.reset_default_graph()\n",
    "    ae.BuildStackedAutoEncoder(iStack)\n",
    "\n",
    "    update_ops = tf.get_collection(tf.GraphKeys.UPDATE_OPS)\n",
    "    with tf.control_dependencies(update_ops):\n",
    "        trainer = tf.train.AdamOptimizer(learning_rate=1e-4).minimize(ae.loss_current, var_list=ae.vars_upmost)\n",
    "    saver = tf.train.Saver(max_to_keep=1000)\n",
    "    sess = tf.Session(config=tf.ConfigProto(gpu_options=tf.GPUOptions(visible_device_list='3')))\n",
    "    tf.global_variables_initializer().run(session=sess)\n",
    "\n",
    "    if lastPath != \"\":\n",
    "        var_list = [v for v in ae.vars_encoder + ae.vars_decoder if v not in ae.vars_upmost]\n",
    "        loader = tf.train.Saver(var_list = var_list)\n",
    "        loader.restore(sess, os.path.join(lastPath, '%d'%(nEpoches-1)))\n",
    "\n",
    "    # training\n",
    "    np.random.seed(0)\n",
    "    lastPath = MakePath(ae, iStack, basePath='../train/SSAE/1024x3/')\n",
    "    if not os.path.exists(lastPath):\n",
    "        os.makedirs(lastPath)\n",
    "    for epoch in range(nEpoches):\n",
    "        indFile = range(len(patches))\n",
    "        np.random.shuffle(indFile)\n",
    "        \n",
    "        iIter = 0\n",
    "        for iFile in indFile:\n",
    "            normal_imgs = patches[iFile]\n",
    "            for i in range(0, normal_imgs.shape[0], batchsize):\n",
    "                normal_batch = normal_imgs[i:i+batchsize,...]\n",
    "\n",
    "                _, loss_train, loss_s, loss_w, loss_img = \\\n",
    "                    sess.run([trainer, ae.loss_upmost, ae.loss_sparse, ae.loss_weight, ae.loss_img], \n",
    "                             feed_dict={ae.input_data: normal_batch})\n",
    "\n",
    "                iIter += 1\n",
    "\n",
    "                if iIter % 100 == 0:\n",
    "                    sys.__stdout__.write('Stack: %d, Epoch: %d, Iteration: %d, loss = (%f, %f, %f, %f)\\n'\\\n",
    "                                         %(iStack, epoch, iIter, loss_train, loss_s, loss_w, loss_img))\n",
    "\n",
    "        [decode] = sess.run([ae.decode_datas[-1]], feed_dict = {ae.input_data: normal_batch})\n",
    "\n",
    "        display.clear_output()\n",
    "        plt.figure(figsize=[15,6])\n",
    "        for i in range(5):\n",
    "            plt.subplot(2, 5, i+1); plt.imshow(normal_batch[i,...,0], 'Greys_r', vmin=-160/500.0, vmax=240/500.0)\n",
    "            plt.subplot(2, 5, i+6); plt.imshow(decode[i,...,0], 'Greys_r', vmin=-160/500.0, vmax=240/500.0)\n",
    "        plt.show()\n",
    "        \n",
    "        saver.save(sess, os.path.join(lastPath, '%d'%epoch))"
   ]
  },
  {
   "cell_type": "code",
   "execution_count": null,
   "metadata": {
    "collapsed": true
   },
   "outputs": [],
   "source": []
  }
 ],
 "metadata": {
  "kernelspec": {
   "display_name": "Python 2",
   "language": "python",
   "name": "python2"
  },
  "language_info": {
   "codemirror_mode": {
    "name": "ipython",
    "version": 2
   },
   "file_extension": ".py",
   "mimetype": "text/x-python",
   "name": "python",
   "nbconvert_exporter": "python",
   "pygments_lexer": "ipython2",
   "version": "2.7.12"
  }
 },
 "nbformat": 4,
 "nbformat_minor": 0
}
