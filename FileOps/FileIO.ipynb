{
 "cells": [
  {
   "cell_type": "code",
   "execution_count": 1,
   "metadata": {
    "collapsed": true
   },
   "outputs": [],
   "source": [
    "from glob import glob\n",
    "import numpy as np\n",
    "import os\n",
    "import sys\n",
    "import dicom"
   ]
  },
  {
   "cell_type": "code",
   "execution_count": 2,
   "metadata": {
    "collapsed": true
   },
   "outputs": [],
   "source": [
    "def ReadFromDicomSeq(path, postfix='*.dcm'):\n",
    "    imgList = list()\n",
    "    fileNames = glob(os.path.join(path, postfix))\n",
    "    zPos = list()\n",
    "    for filename in fileNames:\n",
    "        d = dicom.read_file(filename, force=True)\n",
    "        zPos.append(d.ImagePositionPatient[2])\n",
    "#         imgList.append(d.pixel_array.astype(np.float32))\n",
    "        imgList.append(d.pixel_array.astype(np.float32) * d.RescaleSlope + d.RescaleIntercept)\n",
    "\n",
    "    indices = np.argsort(np.asarray(zPos))\n",
    "    indices = indices[::-1]\n",
    "    zPos = [zPos[i] for i in indices]\n",
    "    imgList = [ imgList[i] for i in indices]\n",
    "    img = np.asarray(imgList)\n",
    "    \n",
    "    info = {}\n",
    "    info['zPos'] = zPos\n",
    "    info['dx'] = d.PixelSpacing[0]\n",
    "    info['dz'] = abs(zPos[0] - zPos[1])\n",
    "    \n",
    "    return img, info"
   ]
  },
  {
   "cell_type": "code",
   "execution_count": null,
   "metadata": {
    "collapsed": true
   },
   "outputs": [],
   "source": []
  }
 ],
 "metadata": {
  "kernelspec": {
   "display_name": "Python 2",
   "language": "python",
   "name": "python2"
  },
  "language_info": {
   "codemirror_mode": {
    "name": "ipython",
    "version": 2
   },
   "file_extension": ".py",
   "mimetype": "text/x-python",
   "name": "python",
   "nbconvert_exporter": "python",
   "pygments_lexer": "ipython2",
   "version": "2.7.12"
  }
 },
 "nbformat": 4,
 "nbformat_minor": 0
}
