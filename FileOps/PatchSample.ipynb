{
 "cells": [
  {
   "cell_type": "code",
   "execution_count": 2,
   "metadata": {
    "collapsed": true
   },
   "outputs": [],
   "source": [
    "from glob import glob\n",
    "import numpy as np\n",
    "import os\n",
    "import sys\n",
    "import dicom\n",
    "import FileIO\n",
    "import h5py\n",
    "import scipy.signal"
   ]
  },
  {
   "cell_type": "code",
   "execution_count": 2,
   "metadata": {
    "collapsed": false
   },
   "outputs": [],
   "source": [
    "# generate samples from ct_img in certain orientation\n",
    "# ct_img: the image in z,y,x order\n",
    "# sampleshape: batchsize * w * h * c\n",
    "# orientation: e.g. xyz means the batches are sampled along x,y,z; xzy means the batches are sampled along x,z,y\n",
    "# mean_along_channels: if the output samples are meaned along the channels\n",
    "# coords: the sample coordiante for the patches. If none, they are sampled randomly\n",
    "def GenerateSamples(ct_img, sampleshape=[1000,64,64,1], orientation='xyz', mean_along_channels=False, coords=None):\n",
    "    orientation = orientation.lower()\n",
    "    if orientation == 'xyz':\n",
    "        patchshape = [sampleshape[1], sampleshape[2], sampleshape[3]]\n",
    "    elif orientation == 'xzy':\n",
    "        patchshape = [sampleshape[1], sampleshape[3], sampleshape[2]]\n",
    "    elif orientation == 'yxz':\n",
    "        patchshape = [sampleshape[2], sampleshape[1], sampleshape[3]]\n",
    "    elif orientation == 'yzx':\n",
    "        patchshape = [sampleshape[3], sampleshape[1], sampleshape[2]]\n",
    "    elif orientation == 'zxy':\n",
    "        patchshape = [sampleshape[2], sampleshape[3], sampleshape[1]]\n",
    "    elif orientation == 'zyx':\n",
    "        patchshape = [sampleshape[3], sampleshape[2], sampleshape[1]]\n",
    "    else:\n",
    "        raise ValueError('orientation should be one of: xyz, xzy, yxz, yzx, zxy, zyx')\n",
    "    \n",
    "    axes_order = ['zyx'.index(orientation[0]), 'zyx'.index(orientation[1]), 'zyx'.index(orientation[2])]\n",
    "    \n",
    "    if coords is None:\n",
    "        x = np.random.randint(0, ct_img.shape[-1] - patchshape[0] + 1, sampleshape[0])\n",
    "        y = np.random.randint(0, ct_img.shape[-2] - patchshape[1] + 1, sampleshape[0])\n",
    "        z = np.random.randint(0, ct_img.shape[-3] - patchshape[2] + 1, sampleshape[0])\n",
    "    else:\n",
    "        x = coords[0]\n",
    "        y = coords[1]\n",
    "        z = coords[2]\n",
    "    \n",
    "    samples = np.zeros(sampleshape, dtype=np.float32)\n",
    "    for i in range(sampleshape[0]):\n",
    "        samples[i,...] = np.transpose(ct_img[z[i]:z[i]+patchshape[2], y[i]:y[i]+patchshape[1], x[i]:x[i]+patchshape[0]],\n",
    "                                      axes_order)\n",
    "    \n",
    "    if mean_along_channels:\n",
    "        samples = np.mean(samples, -1)[..., np.newaxis]\n",
    "    \n",
    "    return samples, (x,y,z)\n",
    "    "
   ]
  },
  {
   "cell_type": "code",
   "execution_count": 5,
   "metadata": {
    "collapsed": true
   },
   "outputs": [],
   "source": [
    "# read a dicom sequence and generate training patches, and save\n",
    "def GenerateTrainingPatchesFromDicomSeq(folder, nFile, nImgPerFile, nSamplePerImg, imgshape, \n",
    "                                        dicomSeqList, dicomSeqPostfix='*.IMA', \n",
    "                                        orientationList = ['xyz', 'xzy', 'yxz', 'yzx', 'zxy', 'zyx'],\n",
    "                                        overwrite=False, normFac=500.0, mean_along_channels = False):\n",
    "    if not os.path.exists(folder):\n",
    "        os.makedirs(folder)\n",
    "    elif not overwrite:\n",
    "        print 'Training patches already exist at folder: %s'%folder\n",
    "        return [nFile, nImgPerFile * nSamplePerImg] + imgshape\n",
    "    \n",
    "    for iFile in range(nFile):\n",
    "        print 'Generating file %d of %d'%(iFile+1, nFile)\n",
    "        data = np.zeros([nImgPerFile * nSamplePerImg] + imgshape, dtype=np.float32)\n",
    "        for iImg in range(nImgPerFile):\n",
    "            img, _ = FileIO.ReadFromDicomSeq(dicomSeqList[np.random.randint(len(dicomSeqList))], dicomSeqPostfix)\n",
    "            samples,_ = GenerateSamples(img, [nSamplePerImg] + imgshape, \n",
    "                                        orientationList[np.random.randint(len(orientationList))])\n",
    "            samples /= normFac\n",
    "            data[iImg*nSamplePerImg:(iImg+1)*nSamplePerImg, ...] = samples\n",
    "        if mean_along_channels:\n",
    "            data = np.mean(data, -1)[..., np.newaxis]\n",
    "        with h5py.File(os.path.join(folder, '%d.h5'%iFile), 'w') as f:\n",
    "            f['data'] = data.astype(np.float32)\n",
    "    \n",
    "    return [nFile] + list(data.shape)\n",
    "    "
   ]
  },
  {
   "cell_type": "code",
   "execution_count": 6,
   "metadata": {
    "collapsed": true
   },
   "outputs": [],
   "source": [
    "# read from h5 files\n",
    "def RetrieveTrainingPatches(folder, iFile):\n",
    "    with h5py.File(os.path.join(folder, '%d.h5'%iFile), 'r') as f:\n",
    "        data = np.copy(f['data'])\n",
    "    \n",
    "    return data"
   ]
  },
  {
   "cell_type": "code",
   "execution_count": 24,
   "metadata": {
    "collapsed": true
   },
   "outputs": [],
   "source": [
    "# make patches from 2D images on grids \n",
    "def MakePatches2D(img, patchsize, strides):\n",
    "    x = range(0, img.shape[0]-patchsize[0]+1, strides[0])\n",
    "    y = range(0, img.shape[1]-patchsize[1]+1, strides[1])\n",
    "    x.append(img.shape[0]-patchsize[0])\n",
    "    y.append(img.shape[1]-patchsize[1])\n",
    "    \n",
    "    patches = np.zeros([len(x) * len(y)] + patchsize)\n",
    "    for ix in range(len(x)):\n",
    "        for iy in range(len(y)):\n",
    "            patches[ix * len(y) + iy] = img[x[ix]:x[ix]+patchsize[0], y[iy]:y[iy]+patchsize[1]]\n",
    "    \n",
    "    return patches, x, y"
   ]
  },
  {
   "cell_type": "code",
   "execution_count": null,
   "metadata": {
    "collapsed": true
   },
   "outputs": [],
   "source": [
    "# make patches 2D on random coordinates. pass coordinates from x and y, if not given, the grids were perturbed randomly\n",
    "def MakePatches2DRandom(img, patchsize, strides, x=None, y=None):\n",
    "    \n",
    "    if x is None:\n",
    "        x = range(0, img.shape[0]-patchsize[0]+1, strides[0])\n",
    "        x.append(img.shape[0]-patchsize[0])\n",
    "        x = np.asarray(x)\n",
    "        x[1:-1] += np.random.randint((strides[0] - patchsize[0]+1) / 2, (patchsize[0] - strides[0]) / 2, [len(x)-2])\n",
    "        x[x > img.shape[0] - patchsize[0]] = img.shape[0]-patchsize[0]\n",
    "        \n",
    "    if y is None:\n",
    "        y = range(0, img.shape[1]-patchsize[1]+1, strides[1])\n",
    "        y.append(img.shape[1]-patchsize[1])\n",
    "        y = np.asarray(y)\n",
    "        y[1:-1] += np.random.randint((strides[1] - patchsize[1]+1) / 2, (patchsize[1] - strides[1]) / 2, [len(y)-2])\n",
    "        y[y > img.shape[1] - patchsize[1]] = img.shape[1]-patchsize[1]\n",
    "\n",
    "    patches = np.zeros([len(x) * len(y)] + patchsize)\n",
    "    for ix in range(len(x)):\n",
    "        for iy in range(len(y)):\n",
    "            patches[ix * len(y) + iy] = img[x[ix]:x[ix]+patchsize[0], y[iy]:y[iy]+patchsize[1]]\n",
    "    \n",
    "    return patches, x, y"
   ]
  },
  {
   "cell_type": "code",
   "execution_count": 1,
   "metadata": {
    "collapsed": true
   },
   "outputs": [],
   "source": [
    "# generate the coordinates of patches in 2D\n",
    "# (for arregation using fast patch module)\n",
    "def GetPatchesCoordsRandom(img, patchsize, strides):\n",
    "    x = range(0, img.shape[-1]-patchsize[-1]+1, strides[-1])\n",
    "    x.append(img.shape[-1]-patchsize[-1])\n",
    "    x = np.asarray(x)\n",
    "    x[1:-1] += np.random.randint((strides[-1] - patchsize[-1]+1) / 2, (patchsize[-1] - strides[-1]) / 2, [len(x)-2])\n",
    "    x[x > img.shape[-1] - patchsize[-1]] = img.shape[-1]-patchsize[-1]\n",
    "    \n",
    "    y = range(0, img.shape[-2]-patchsize[-2]+1, strides[-2])\n",
    "    y.append(img.shape[-2]-patchsize[-2])\n",
    "    y = np.asarray(y)\n",
    "    y[1:-1] += np.random.randint((strides[-2] - patchsize[-2]+1) / 2, (patchsize[-2] - strides[-2]) / 2, [len(y)-2])\n",
    "    y[y > img.shape[-2] - patchsize[-2]] = img.shape[-2]-patchsize[-2]\n",
    "    \n",
    "    return x.astype(np.int32),y.astype(np.int32)\n",
    "    "
   ]
  },
  {
   "cell_type": "code",
   "execution_count": 3,
   "metadata": {
    "collapsed": true
   },
   "outputs": [],
   "source": [
    "# generate 2D patches along axis\n",
    "def MakePatches2DRandomFrom3D(img, patchsize, strides, x=None, y=None, main_axis='z'):\n",
    "    # image as zyx\n",
    "    working_img = np.copy(img)\n",
    "    if main_axis == 'y' or main_axis == 1:\n",
    "        working_img = np.swapaxes(working_img, 0, 1)\n",
    "    elif main_axis == 'x' or main_axis == 2:\n",
    "        working_img = np.swapaxes(working_img, 0, 2)\n",
    "    \n",
    "    if x is None:\n",
    "        x = range(0, img.shape[2]-patchsize[2]+1, strides[2])\n",
    "        x.append(img.shape[2]-patchsize[2])\n",
    "        x = np.asarray(x)\n",
    "        x[1:-1] += np.random.randint((strides[2] - patchsize[2]+1) / 2, (patchsize[2] - strides[2]) / 2, [len(x)-2])\n",
    "        x[x > img.shape[2] - patchsize[2]] = img.shape[2]-patchsize[2]\n",
    "        \n",
    "    if y is None:\n",
    "        y = range(0, img.shape[1]-patchsize[1]+1, strides[1])\n",
    "        y.append(img.shape[1]-patchsize[1])\n",
    "        y = np.asarray(y)\n",
    "        y[1:-1] += np.random.randint((strides[1] - patchsize[1]+1) / 2, (patchsize[1] - strides[1]) / 2, [len(y)-2])\n",
    "        y[y > img.shape[1] - patchsize[1]] = img.shape[1]-patchsize[1]\n",
    "    \n",
    "    patches = np.zeros([len(x), len(y), working_img.shape[0], patchsize[1], patchsize[2]], np.float32)\n",
    "    for ix in range(len(x)):\n",
    "        for iy in range(len(y)):\n",
    "            patches[ix, iy, ...] = working_img[:, y[iy]:y[iy]+patchsize[1], x[ix]:x[ix]+patchsize[2]]\n",
    "    \n",
    "    return patches, x, y\n",
    "    \n",
    "    "
   ]
  },
  {
   "cell_type": "code",
   "execution_count": 27,
   "metadata": {
    "collapsed": true
   },
   "outputs": [],
   "source": [
    "# aggregate patches with normalization\n",
    "def AggregatePatches2D(patches, x, y, imgshape, weights):\n",
    "    img = np.zeros(imgshape, np.float32)\n",
    "    imgw = np.zeros(imgshape, np.float32)\n",
    "    patchsize = [patches.shape[1], patches.shape[2]]\n",
    "    \n",
    "    for ix in range(len(x)):\n",
    "        for iy in range(len(y)):\n",
    "            img[x[ix]:x[ix]+patchsize[0], y[iy]:y[iy]+patchsize[1]] += patches[ix*len(y) + iy] * weights\n",
    "            imgw[x[ix]:x[ix]+patchsize[0], y[iy]:y[iy]+patchsize[1]] += weights\n",
    "    \n",
    "    return img / imgw\n",
    "    "
   ]
  },
  {
   "cell_type": "code",
   "execution_count": null,
   "metadata": {
    "collapsed": true
   },
   "outputs": [],
   "source": [
    "# sum patches without normalization (for SQS)\n",
    "def SumPatches2D(patches, x, y, imgshape, weights):\n",
    "    img = np.zeros(imgshape, np.float32)\n",
    "    patchsize = [patches.shape[1], patches.shape[2]]\n",
    "    \n",
    "    for ix in range(len(x)):\n",
    "        for iy in range(len(y)):\n",
    "            img[x[ix]:x[ix]+patchsize[0], y[iy]:y[iy]+patchsize[1]] += patches[ix*len(y) + iy] * weights\n",
    "    \n",
    "    return img"
   ]
  },
  {
   "cell_type": "code",
   "execution_count": 2,
   "metadata": {
    "collapsed": true
   },
   "outputs": [],
   "source": [
    "def SumPatches2DTo3D(patches, x, y, imgshape, main_axis='z'):\n",
    "    if main_axis == 'z' or main_axis == 0:\n",
    "        working_shape = [imgshape[0], imgshape[1], imgshape[2]]\n",
    "    elif main_axis == 'y' or main_axis == 1:\n",
    "        working_shape = [imgshape[1], imgshape[0], imgshape[2]]\n",
    "    elif main_axis == 'x' or main_axis == 2:\n",
    "        working_shape = [imgshape[2], imgshape[1], imgshape[0]]\n",
    "    \n",
    "    img = np.zeros(working_shape, np.float32)\n",
    "    patchsize = [1, patches.shape[-2], patches.shape[-1]]\n",
    "    \n",
    "    for ix in range(len(x)):\n",
    "        for iy in range(len(y)):\n",
    "            img[:, y[iy]:y[iy]+patchsize[1], x[ix]:x[ix]+patchsize[2]] += patches[ix, iy, ...]\n",
    "    \n",
    "    if main_axis == 'y' or main_axis == 1:\n",
    "        img = np.swapaxes(img, 0, 1)\n",
    "    elif main_axis == 'x' or main_axis == 2:\n",
    "        img = np.swapaxes(img, 0, 2)\n",
    "    \n",
    "    return img"
   ]
  },
  {
   "cell_type": "code",
   "execution_count": 33,
   "metadata": {
    "collapsed": true
   },
   "outputs": [],
   "source": [
    "def GetGaussianKernel(patchsize, std):\n",
    "    h1 = scipy.signal.gaussian(patchsize[0], std)[...,np.newaxis]\n",
    "    h2 = scipy.signal.gaussian(patchsize[1], std)[np.newaxis,...]\n",
    "    \n",
    "    h = np.dot(h1,h2)\n",
    "    return h / h.sum()"
   ]
  },
  {
   "cell_type": "code",
   "execution_count": null,
   "metadata": {
    "collapsed": true
   },
   "outputs": [],
   "source": []
  }
 ],
 "metadata": {
  "kernelspec": {
   "display_name": "Python 2",
   "language": "python",
   "name": "python2"
  },
  "language_info": {
   "codemirror_mode": {
    "name": "ipython",
    "version": 2
   },
   "file_extension": ".py",
   "mimetype": "text/x-python",
   "name": "python",
   "nbconvert_exporter": "python",
   "pygments_lexer": "ipython2",
   "version": "2.7.12"
  }
 },
 "nbformat": 4,
 "nbformat_minor": 0
}
